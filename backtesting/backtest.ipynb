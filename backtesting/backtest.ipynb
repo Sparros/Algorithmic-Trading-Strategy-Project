{
 "cells": [
  {
   "cell_type": "code",
   "execution_count": null,
   "id": "d809037f",
   "metadata": {},
   "outputs": [],
   "source": [
    "import sys\n",
    "import os\n",
    "# Add the parent directory (where 'src' folder is located) to sys.path\n",
    "sys.path.append(os.path.abspath(os.path.join(os.getcwd(), '..')))\n",
    "import pandas as pd\n",
    "import numpy as np\n",
    "import pickle\n",
    "import os\n",
    "import matplotlib.pyplot as plt\n",
    "from backtesting import Backtest, Strategy\n",
    "from src.stock_features import create_target_variable\n",
    "from strategies.continuous_allocation import ContinuousAllocationStrategy\n",
    "from strategies.MLDynamicStrategy import MLDynamicStrategy\n"
   ]
  },
  {
   "cell_type": "code",
   "execution_count": null,
   "id": "3cc377e4",
   "metadata": {},
   "outputs": [],
   "source": [
    "data_path = r'C:\\Users\\epoch_bpjmdqk\\Documents\\Code\\data\\processed\\stock_and_macro.csv'\n",
    "# Path to the saved model\n",
    "model_path = r'C:\\Users\\epoch_bpjmdqk\\Documents\\Code\\models\\randomforest_w10_t0.005.pkl'\n",
    "# Define the data preparation parameters that the model was trained on\n",
    "window = 10\n",
    "# Define the backtesting period split\n",
    "backtest_start_date = '2021-01-01'\n",
    "# NEW: Define real-world trading costs and starting balance\n",
    "transaction_cost_per_trade = 0.001\n",
    "slippage_factor = 0.0005\n",
    "starting_balance = 10000.0\n",
    "allocation_percentage = 0.50\n",
    "\n",
    "target_ticker = 'WMT'\n",
    "threshold = 0.005"
   ]
  },
  {
   "cell_type": "code",
   "execution_count": null,
   "id": "ad2878b3",
   "metadata": {},
   "outputs": [],
   "source": [
    "try:\n",
    "    # Load the processed data\n",
    "    data = pd.read_csv(data_path, index_col='Date', parse_dates=True)\n",
    "    \n",
    "    # Load the trained model from the pickle file\n",
    "    with open(model_path, 'rb') as file:\n",
    "        best_model = pickle.load(file)\n",
    "    \n",
    "    print(\"✅ Successfully loaded data and the best model.\")\n",
    "except FileNotFoundError:\n",
    "    print(f\"Error: Could not find one of the files. Please check paths:\")\n",
    "    print(f\"Data path: {data_path}\")\n",
    "    print(f\"Model path: {model_path}\")\n",
    "    exit()"
   ]
  },
  {
   "cell_type": "code",
   "execution_count": null,
   "id": "b6a95dd4",
   "metadata": {},
   "outputs": [],
   "source": [
    "# ================================================================\n",
    "# Step 3: Your Data Preparation\n",
    "# ================================================================\n",
    "\n",
    "# Create the target variable\n",
    "data_with_target = create_target_variable(data.copy(), target_ticker, window=window, threshold=threshold)\n",
    "\n",
    "# Define column names\n",
    "target_col_name = f'{target_ticker}_Target'\n",
    "target_return_col_name = f'{target_ticker}_target_return_{window}D_{threshold}'\n",
    "columns_to_drop = [\n",
    "    target_col_name,\n",
    "    target_return_col_name,\n",
    "    f'Open_{target_ticker}',\n",
    "    f'High_{target_ticker}',\n",
    "    f'Low_{target_ticker}',\n",
    "    f'Close_{target_ticker}'\n",
    "] \n",
    "data_with_target.dropna(inplace=True)\n",
    "\n",
    "# Split data into training and backtesting sets for features\n",
    "# NOTE: We use the *entire* dataset here to generate all predictions,\n",
    "# but we will only backtest on the backtest_start_date onwards.\n",
    "X_full = data_with_target.drop(columns=columns_to_drop)\n",
    "\n",
    "\n",
    "# Generate Predictions\n",
    "\n",
    "# Use the loaded model to predict signals on your entire feature set.\n",
    "# This creates the 'Prediction' column for the full DataFrame.\n",
    "data_with_target['Prediction'] = best_model.predict(X_full)\n",
    "print(\"✅ Successfully generated predictions using the loaded model.\")\n",
    "\n",
    "# Prepare OHLCV DataFrame for backtesting.py\n",
    "ohlc = data_with_target.loc[backtest_start_date:, [\n",
    "    f'Open_{target_ticker}',\n",
    "    f'High_{target_ticker}',\n",
    "    f'Low_{target_ticker}',\n",
    "    f'Close_{target_ticker}',\n",
    "    f'Volume_{target_ticker}',\n",
    "    'Prediction'\n",
    "]].rename(columns={\n",
    "    f'Open_{target_ticker}': 'Open',\n",
    "    f'High_{target_ticker}': 'High',\n",
    "    f'Low_{target_ticker}': 'Low',\n",
    "    f'Close_{target_ticker}': 'Close',\n",
    "    f'Volume_{target_ticker}': 'Volume'\n",
    "})"
   ]
  },
  {
   "cell_type": "code",
   "execution_count": null,
   "id": "45ef7337",
   "metadata": {},
   "outputs": [],
   "source": [
    "print(ohlc['Prediction'].value_counts())"
   ]
  },
  {
   "cell_type": "code",
   "execution_count": null,
   "id": "274cd7d2",
   "metadata": {},
   "outputs": [],
   "source": [
    "# ================================================================\n",
    "# Step 4: Run the Backtest with the Predictions\n",
    "# ================================================================\n",
    "\n",
    "bt = Backtest(\n",
    "    ohlc,  # Start the backtest from the specified date\n",
    "    ContinuousAllocationStrategy,\n",
    "    cash=starting_balance,\n",
    "    commission=transaction_cost_per_trade,\n",
    ") \n",
    "\n",
    "\n",
    "print(\"\\n--- Running Optimization ---\")\n",
    "stats = bt.optimize(\n",
    "    allocation_percentage=list(np.arange(0.1, 1.01, 0.1)),\n",
    "    sl_percentage=list(np.arange(0.01, 0.1, 0.01)),\n",
    "    #tp_percentage=list(np.arange(0.05, 0.25, 0.05)),\n",
    "    maximize='Sharpe Ratio',\n",
    ")"
   ]
  },
  {
   "cell_type": "code",
   "execution_count": null,
   "id": "35201cd0",
   "metadata": {},
   "outputs": [],
   "source": [
    "# Print the best results and the corresponding parameters\n",
    "print(\"\\n--- Best Backtest Results ---\")\n",
    "print(stats._strategy)\n",
    "print(stats)"
   ]
  }
 ],
 "metadata": {
  "kernelspec": {
   "display_name": "venv",
   "language": "python",
   "name": "python3"
  },
  "language_info": {
   "codemirror_mode": {
    "name": "ipython",
    "version": 3
   },
   "file_extension": ".py",
   "mimetype": "text/x-python",
   "name": "python",
   "nbconvert_exporter": "python",
   "pygments_lexer": "ipython3",
   "version": "3.13.6"
  }
 },
 "nbformat": 4,
 "nbformat_minor": 5
}
