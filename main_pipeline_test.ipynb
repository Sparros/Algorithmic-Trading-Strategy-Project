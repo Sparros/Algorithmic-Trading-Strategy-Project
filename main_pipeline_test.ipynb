{
 "cells": [
  {
   "cell_type": "code",
   "execution_count": null,
   "id": "9c535def",
   "metadata": {},
   "outputs": [],
   "source": [
    "from stock_data import fetch_single_stock_data\n",
    "from stock_features import prepare_data_for_ml, create_target_variable\n",
    "import pandas as pd\n",
    "import warnings\n",
    "warnings.filterwarnings('ignore')"
   ]
  },
  {
   "cell_type": "code",
   "execution_count": null,
   "id": "ca51a41f",
   "metadata": {},
   "outputs": [
    {
     "name": "stdout",
     "output_type": "stream",
     "text": [
      "\n",
      "--- Starting Data Preparation Pipeline ---\n",
      "Fetching data for 6 tickers from 2010-01-01 to 2023-01-01...\n",
      "\n",
      "Discovered stock prefixes: ['COST', 'KO', 'PEP', 'PG', 'WMT', '^GSPC']\n",
      "\n",
      "Processing features for stock prefix: COST\n",
      "  - Calculating ATR for COST (window=14)...\n",
      "  - Calculating RSI for COST (window=14)...\n",
      "  - Calculating MACD for COST (fast=12, slow=26, signal=9)...\n",
      "\n",
      "Processing features for stock prefix: KO\n",
      "  - Calculating ATR for KO (window=14)...\n",
      "  - Calculating RSI for KO (window=14)...\n",
      "  - Calculating MACD for KO (fast=12, slow=26, signal=9)...\n",
      "\n",
      "Processing features for stock prefix: PEP\n",
      "  - Calculating ATR for PEP (window=14)...\n",
      "  - Calculating RSI for PEP (window=14)...\n",
      "  - Calculating MACD for PEP (fast=12, slow=26, signal=9)...\n",
      "\n",
      "Processing features for stock prefix: PG\n",
      "  - Calculating ATR for PG (window=14)...\n",
      "  - Calculating RSI for PG (window=14)...\n",
      "  - Calculating MACD for PG (fast=12, slow=26, signal=9)...\n",
      "\n",
      "Processing features for stock prefix: WMT\n",
      "  - Calculating ATR for WMT (window=14)...\n",
      "  - Calculating RSI for WMT (window=14)...\n",
      "  - Calculating MACD for WMT (fast=12, slow=26, signal=9)...\n",
      "\n",
      "Processing features for stock prefix: ^GSPC\n",
      "  - Calculating ATR for ^GSPC (window=14)...\n",
      "  - Calculating RSI for ^GSPC (window=14)...\n",
      "  - Calculating MACD for ^GSPC (fast=12, slow=26, signal=9)...\n",
      "\n",
      "Applying general features and targets...\n",
      "  - Creating next-day return targets...\n",
      "  - Adding lagged features...\n",
      "\n",
      "Dropped 50 rows due to NaN values after feature engineering.\n",
      "\n",
      "--- Data Preparation Complete ---\n",
      "Final engineered data saved to consumer_stocks_final_engineered.csv\n"
     ]
    }
   ],
   "source": [
    "# Define the parameters for your data pipeline\n",
    "tickers_list = ['PG', 'KO', 'PEP', 'WMT', 'COST', '^GSPC']\n",
    "start_date_str = '2010-01-01'\n",
    "end_date_str = '2023-01-01'\n",
    "output_filename = \"consumer_stocks_final_engineered.csv\"\n",
    "\n",
    "# Make the single function call to run the entire pipeline\n",
    "final_engineered_df = prepare_data_for_ml(\n",
    "    tickers=tickers_list,\n",
    "    start_date=start_date_str,\n",
    "    end_date=end_date_str,\n",
    "    output_engineered_csv=output_filename\n",
    ")\n",
    "\n",
    "# 2. Now, create your target variable just before modeling\n",
    "# You can easily iterate through different windows and thresholds here\n",
    "ticker = 'WMT'\n",
    "\n",
    "# Example 1: Next-day target\n",
    "data_next_day_target = create_target_variable(final_engineered_df.copy(), ticker, window=1, threshold=0)\n",
    "\n",
    "# Example 2: Weekly target with a 1% threshold\n",
    "data_weekly_target = create_target_variable(final_engineered_df.copy(), ticker, window=5, threshold=0.01)\n",
    "\n",
    "# Now, you would proceed with splitting and modeling using either\n",
    "# `data_next_day_target` or `data_weekly_target`.\n",
    "# This is a much better structure for experimenting."
   ]
  },
  {
   "cell_type": "code",
   "execution_count": 6,
   "id": "873ffc61",
   "metadata": {},
   "outputs": [
    {
     "name": "stdout",
     "output_type": "stream",
     "text": [
      "<class 'pandas.core.frame.DataFrame'>\n",
      "DatetimeIndex: 3222 entries, 2010-03-16 to 2022-12-29\n",
      "Columns: 296 entries, Close_COST to ^GSPC_Volume_MA_Ratio_lag5\n",
      "dtypes: float64(290), int64(6)\n",
      "memory usage: 7.3 MB\n"
     ]
    }
   ],
   "source": [
    "final_engineered_df.info()"
   ]
  }
 ],
 "metadata": {
  "kernelspec": {
   "display_name": "venv",
   "language": "python",
   "name": "python3"
  },
  "language_info": {
   "codemirror_mode": {
    "name": "ipython",
    "version": 3
   },
   "file_extension": ".py",
   "mimetype": "text/x-python",
   "name": "python",
   "nbconvert_exporter": "python",
   "pygments_lexer": "ipython3",
   "version": "3.13.3"
  }
 },
 "nbformat": 4,
 "nbformat_minor": 5
}
