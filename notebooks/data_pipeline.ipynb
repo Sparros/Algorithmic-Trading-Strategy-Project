{
 "cells": [
  {
   "cell_type": "code",
   "execution_count": null,
   "id": "ca51a41f",
   "metadata": {},
   "outputs": [
    {
     "name": "stdout",
     "output_type": "stream",
     "text": [
      "\n",
      "--- Step 1: Building Stock Feature Pipeline ---\n"
     ]
    },
    {
     "ename": "TypeError",
     "evalue": "build_stock_features_orchestrator() missing 1 required positional argument: 'end_date'",
     "output_type": "error",
     "traceback": [
      "\u001b[31m---------------------------------------------------------------------------\u001b[39m",
      "\u001b[31mTypeError\u001b[39m                                 Traceback (most recent call last)",
      "\u001b[36mCell\u001b[39m\u001b[36m \u001b[39m\u001b[32mIn[5]\u001b[39m\u001b[32m, line 23\u001b[39m\n\u001b[32m     21\u001b[39m \u001b[38;5;66;03m# 1. Build the stock feature pipeline\u001b[39;00m\n\u001b[32m     22\u001b[39m \u001b[38;5;28mprint\u001b[39m(\u001b[33m\"\u001b[39m\u001b[38;5;130;01m\\n\u001b[39;00m\u001b[33m--- Step 1: Building Stock Feature Pipeline ---\u001b[39m\u001b[33m\"\u001b[39m)\n\u001b[32m---> \u001b[39m\u001b[32m23\u001b[39m consumer_stocks_df = \u001b[43mbuild_stock_features_orchestrator\u001b[49m\u001b[43m(\u001b[49m\n\u001b[32m     24\u001b[39m \u001b[43m    \u001b[49m\u001b[43mtickers\u001b[49m\u001b[43m=\u001b[49m\u001b[43mtickers_list\u001b[49m\u001b[43m,\u001b[49m\n\u001b[32m     25\u001b[39m \u001b[43m    \u001b[49m\u001b[43mtarget_ticker\u001b[49m\u001b[43m=\u001b[49m\u001b[43mtarget_ticker\u001b[49m\u001b[43m,\u001b[49m\n\u001b[32m     26\u001b[39m \u001b[43m    \u001b[49m\u001b[43msupplier_tickers\u001b[49m\u001b[43m=\u001b[49m\u001b[43msupplier_tickers\u001b[49m\u001b[43m,\u001b[49m\n\u001b[32m     27\u001b[39m \u001b[43m    \u001b[49m\u001b[43mbenchmark_ticker\u001b[49m\u001b[43m=\u001b[49m\u001b[43mbenchmark_ticker\u001b[49m\u001b[43m,\u001b[49m\n\u001b[32m     28\u001b[39m \u001b[43m    \u001b[49m\u001b[43mstart_date\u001b[49m\u001b[43m=\u001b[49m\u001b[43mstart_date_str\u001b[49m\u001b[43m,\u001b[49m\n\u001b[32m     29\u001b[39m \u001b[43m    \u001b[49m\u001b[38;5;66;43;03m#end_date=end_date_str,\u001b[39;49;00m\n\u001b[32m     30\u001b[39m \u001b[43m)\u001b[49m\n\u001b[32m     32\u001b[39m \u001b[38;5;66;03m# 2. Apply Kalman filter with lag on the output\u001b[39;00m\n\u001b[32m     33\u001b[39m \u001b[38;5;28mprint\u001b[39m(\u001b[33m\"\u001b[39m\u001b[38;5;130;01m\\n\u001b[39;00m\u001b[33m--- Step 2: Applying Kalman Filter ---\u001b[39m\u001b[33m\"\u001b[39m)\n",
      "\u001b[31mTypeError\u001b[39m: build_stock_features_orchestrator() missing 1 required positional argument: 'end_date'"
     ]
    }
   ],
   "source": [
    "import sys\n",
    "import os\n",
    "import pandas as pd\n",
    "# Add the parent directory (where 'src' folder is located) to sys.path\n",
    "sys.path.append(os.path.abspath(os.path.join(os.getcwd(), '..')))\n",
    "from src.stock_features import build_stock_features_orchestrator, apply_kalman_filter_with_lag\n",
    "import warnings\n",
    "warnings.filterwarnings('ignore')\n",
    "\n",
    "# Define the parameters for your data pipeline\n",
    "tickers_list = ['PG', 'KO', 'PEP', 'WMT', 'COST', '^GSPC']\n",
    "start_date_str = '2010-01-01'\n",
    "end_date_str = '2023-01-01'\n",
    "output_filename = \"stock_and_macro.csv\"\n",
    "\n",
    "# Define the new parameters for the stock feature pipeline\n",
    "target_ticker = 'WMT'\n",
    "supplier_tickers = ['KO', 'PEP']\n",
    "benchmark_ticker = '^GSPC'\n",
    "\n",
    "# 1. Build the stock feature pipeline\n",
    "print(\"\\n--- Step 1: Building Stock Feature Pipeline ---\")\n",
    "consumer_stocks_df = build_stock_features_orchestrator(\n",
    "    tickers=tickers_list,\n",
    "    target_ticker=target_ticker,\n",
    "    supplier_tickers=supplier_tickers,\n",
    "    benchmark_ticker=benchmark_ticker,\n",
    "    #start_date=start_date_str,\n",
    "    #end_date=end_date_str,\n",
    ")\n",
    "\n",
    "# 2. Apply Kalman filter with lag on the output\n",
    "print(\"\\n--- Step 2: Applying Kalman Filter ---\")\n",
    "tickers_to_filter = tickers_list\n",
    "lags_to_use = [1, 5, 10]\n",
    "consumer_stocks_df = apply_kalman_filter_with_lag(consumer_stocks_df, tickers_to_filter, lags_to_use)\n",
    "\n"
   ]
  },
  {
   "cell_type": "code",
   "execution_count": 2,
   "id": "dcf3108e",
   "metadata": {},
   "outputs": [
    {
     "name": "stdout",
     "output_type": "stream",
     "text": [
      "Starting FRED data orchestration pipeline...\n",
      "Fetching and processing data for: UNEMPLOYMENT (UNRATE)\n",
      "Fetching and processing data for: REAL_GDP (GDPC1)\n",
      "Fetching and processing data for: TREASURY_YIELD (DGS10)\n",
      "Fetching and processing data for: CPI (CPIAUCSL)\n",
      "Fetching and processing data for: PAYEMS (PAYEMS)\n",
      "Fetching and processing data for: FEDERAL_FUNDS_RATE (DFF)\n",
      "Fetching and processing data for: RETAIL_SALES (RSAFS)\n",
      "Data orchestration complete.\n",
      "\n",
      "--- Final Merged and Cleaned DataFrame ---\n",
      "            UNRATE      GDPC1  DGS10  CPIAUCSL    PAYEMS   DFF     RSAFS\n",
      "date                                                                    \n",
      "1992-01-01     7.3  10236.435   6.71     138.3  108365.0  4.09  159177.0\n",
      "1992-01-02     7.3  10236.435   6.78     138.3  108365.0  4.61  159177.0\n",
      "1992-01-03     7.3  10236.435   6.85     138.3  108365.0  4.06  159177.0\n",
      "1992-01-04     7.3  10236.435   6.85     138.3  108365.0  4.06  159177.0\n",
      "1992-01-05     7.3  10236.435   6.85     138.3  108365.0  4.06  159177.0\n",
      "\n",
      "Final DataFrame info:\n",
      "<class 'pandas.core.frame.DataFrame'>\n",
      "DatetimeIndex: 12145 entries, 1992-01-01 to 2025-04-01\n",
      "Freq: D\n",
      "Data columns (total 7 columns):\n",
      " #   Column    Non-Null Count  Dtype  \n",
      "---  ------    --------------  -----  \n",
      " 0   UNRATE    12145 non-null  float64\n",
      " 1   GDPC1     12145 non-null  float64\n",
      " 2   DGS10     12145 non-null  float64\n",
      " 3   CPIAUCSL  12145 non-null  float64\n",
      " 4   PAYEMS    12145 non-null  float64\n",
      " 5   DFF       12145 non-null  float64\n",
      " 6   RSAFS     12145 non-null  float64\n",
      "dtypes: float64(7)\n",
      "memory usage: 759.1 KB\n",
      "None\n",
      "\n",
      "Final DataFrame NaN count:\n",
      "UNRATE      0\n",
      "GDPC1       0\n",
      "DGS10       0\n",
      "CPIAUCSL    0\n",
      "PAYEMS      0\n",
      "DFF         0\n",
      "RSAFS       0\n",
      "dtype: int64\n"
     ]
    }
   ],
   "source": [
    "from src.macro_features import macro_data_orchestrator\n",
    "\n",
    "FRED_series_ids = {\n",
    "        'CPI': 'CPIAUCSL',\n",
    "        'FEDERAL_FUNDS_RATE': 'DFF',\n",
    "        'TREASURY_YIELD': 'DGS10',\n",
    "        'UNEMPLOYMENT': 'UNRATE',\n",
    "        'REAL_GDP': 'GDPC1',\n",
    "        'RETAIL_SALES': 'RSAFS',\n",
    "        'PAYEMS': 'PAYEMS' \n",
    "    }\n",
    "\n",
    "macro_funcs = { 'CPI', 'FEDERAL_FUNDS_RATE', 'TREASURY_YIELD', \n",
    "                'UNEMPLOYMENT', 'REAL_GDP', 'RETAIL_SALES', 'PAYEMS' }\n",
    "\n",
    "\n",
    "# Now you pass the dictionary explicitly as an argument.\n",
    "combined_macro_df = macro_data_orchestrator(\n",
    "    macro_funcs_to_fetch=macro_funcs,\n",
    "    fred_series_ids_dict=FRED_series_ids,\n",
    ")\n",
    "\n",
    "if not combined_macro_df.empty:\n",
    "    print(\"\\n--- Final Merged and Cleaned DataFrame ---\")\n",
    "    print(combined_macro_df.head())\n",
    "    print(\"\\nFinal DataFrame info:\")\n",
    "    print(combined_macro_df.info())\n",
    "    print(\"\\nFinal DataFrame NaN count:\")\n",
    "    print(combined_macro_df.isna().sum())\n",
    "else:\n",
    "    print(\"Orchestrator returned an empty DataFrame.\")"
   ]
  },
  {
   "cell_type": "code",
   "execution_count": 3,
   "id": "f7acf0d9",
   "metadata": {},
   "outputs": [],
   "source": [
    "# 3. Merge the two DataFrames on their date index\n",
    "# The how='left' argument keeps all rows from the stock DataFrame.\n",
    "merged_df = pd.merge(\n",
    "    consumer_stocks_df,\n",
    "    combined_macro_df,\n",
    "    left_index=True,\n",
    "    right_index=True,\n",
    "    how='left'\n",
    ")\n",
    "\n"
   ]
  },
  {
   "cell_type": "code",
   "execution_count": 4,
   "id": "5cb5078f",
   "metadata": {},
   "outputs": [
    {
     "name": "stdout",
     "output_type": "stream",
     "text": [
      "['Close_COST', 'Close_KO', 'Close_PEP', 'Close_PG', 'Close_WMT', 'Close_^GSPC', 'High_COST', 'High_KO', 'High_PEP', 'High_PG', 'High_WMT', 'High_^GSPC', 'Low_COST', 'Low_KO', 'Low_PEP', 'Low_PG', 'Low_WMT', 'Low_^GSPC', 'Open_COST', 'Open_KO', 'Open_PEP', 'Open_PG', 'Open_WMT', 'Open_^GSPC', 'Volume_COST', 'Volume_KO', 'Volume_PEP', 'Volume_PG', 'Volume_WMT', 'Volume_^GSPC', 'COST_HighLow_Range', 'COST_OpenClose_Range', 'COST_Close_to_Range_Ratio', 'COST_True_Range', 'COST_ATR14', 'COST_Volume_Daily_Change', 'COST_Volume_MA_20D', 'COST_Volume_MA_Ratio', 'COST_OBV', 'COST_RSI14', 'COST_MACD_Line', 'COST_MACD_Signal', 'COST_MACD_Hist', 'COST_SMA_10', 'COST_SMA_20', 'COST_SMA_50', 'COST_EMA_12', 'COST_EMA_26', 'COST_BB_Middle20', 'COST_BB_Upper20', 'COST_BB_Lower20', 'COST_BB_Bandwidth20', 'COST_BB_PctB20', 'COST_Stoch_K_14', 'COST_Stoch_D_14_3', 'COST_PlusDI_14', 'COST_MinusDI_14', 'COST_DX_14', 'COST_ADX_14', 'COST_RollingMean_Convergence_50', 'COST_ROC_12', 'COST_MFI_14', 'COST_CMF_21', 'COST_RSI_Vol_Interaction', 'COST_TrueRange_Vol_Interaction', 'KO_HighLow_Range', 'KO_OpenClose_Range', 'KO_Close_to_Range_Ratio', 'KO_True_Range', 'KO_ATR14', 'KO_Volume_Daily_Change', 'KO_Volume_MA_20D', 'KO_Volume_MA_Ratio', 'KO_OBV', 'KO_RSI14', 'KO_MACD_Line', 'KO_MACD_Signal', 'KO_MACD_Hist', 'KO_SMA_10', 'KO_SMA_20', 'KO_SMA_50', 'KO_EMA_12', 'KO_EMA_26', 'KO_BB_Middle20', 'KO_BB_Upper20', 'KO_BB_Lower20', 'KO_BB_Bandwidth20', 'KO_BB_PctB20', 'KO_Stoch_K_14', 'KO_Stoch_D_14_3', 'KO_PlusDI_14', 'KO_MinusDI_14', 'KO_DX_14', 'KO_ADX_14', 'KO_RollingMean_Convergence_50', 'KO_ROC_12', 'KO_MFI_14', 'KO_CMF_21', 'KO_RSI_Vol_Interaction', 'KO_TrueRange_Vol_Interaction', 'PEP_HighLow_Range', 'PEP_OpenClose_Range', 'PEP_Close_to_Range_Ratio', 'PEP_True_Range', 'PEP_ATR14', 'PEP_Volume_Daily_Change', 'PEP_Volume_MA_20D', 'PEP_Volume_MA_Ratio', 'PEP_OBV', 'PEP_RSI14', 'PEP_MACD_Line', 'PEP_MACD_Signal', 'PEP_MACD_Hist', 'PEP_SMA_10', 'PEP_SMA_20', 'PEP_SMA_50', 'PEP_EMA_12', 'PEP_EMA_26', 'PEP_BB_Middle20', 'PEP_BB_Upper20', 'PEP_BB_Lower20', 'PEP_BB_Bandwidth20', 'PEP_BB_PctB20', 'PEP_Stoch_K_14', 'PEP_Stoch_D_14_3', 'PEP_PlusDI_14', 'PEP_MinusDI_14', 'PEP_DX_14', 'PEP_ADX_14', 'PEP_RollingMean_Convergence_50', 'PEP_ROC_12', 'PEP_MFI_14', 'PEP_CMF_21', 'PEP_RSI_Vol_Interaction', 'PEP_TrueRange_Vol_Interaction', 'PG_HighLow_Range', 'PG_OpenClose_Range', 'PG_Close_to_Range_Ratio', 'PG_True_Range', 'PG_ATR14', 'PG_Volume_Daily_Change', 'PG_Volume_MA_20D', 'PG_Volume_MA_Ratio', 'PG_OBV', 'PG_RSI14', 'PG_MACD_Line', 'PG_MACD_Signal', 'PG_MACD_Hist', 'PG_SMA_10', 'PG_SMA_20', 'PG_SMA_50', 'PG_EMA_12', 'PG_EMA_26', 'PG_BB_Middle20', 'PG_BB_Upper20', 'PG_BB_Lower20', 'PG_BB_Bandwidth20', 'PG_BB_PctB20', 'PG_Stoch_K_14', 'PG_Stoch_D_14_3', 'PG_PlusDI_14', 'PG_MinusDI_14', 'PG_DX_14', 'PG_ADX_14', 'PG_RollingMean_Convergence_50', 'PG_ROC_12', 'PG_MFI_14', 'PG_CMF_21', 'PG_RSI_Vol_Interaction', 'PG_TrueRange_Vol_Interaction', 'WMT_HighLow_Range', 'WMT_OpenClose_Range', 'WMT_Close_to_Range_Ratio', 'WMT_True_Range', 'WMT_ATR14', 'WMT_Volume_Daily_Change', 'WMT_Volume_MA_20D', 'WMT_Volume_MA_Ratio', 'WMT_OBV', 'WMT_RSI14', 'WMT_MACD_Line', 'WMT_MACD_Signal', 'WMT_MACD_Hist', 'WMT_SMA_10', 'WMT_SMA_20', 'WMT_SMA_50', 'WMT_EMA_12', 'WMT_EMA_26', 'WMT_BB_Middle20', 'WMT_BB_Upper20', 'WMT_BB_Lower20', 'WMT_BB_Bandwidth20', 'WMT_BB_PctB20', 'WMT_Stoch_K_14', 'WMT_Stoch_D_14_3', 'WMT_PlusDI_14', 'WMT_MinusDI_14', 'WMT_DX_14', 'WMT_ADX_14', 'WMT_RollingMean_Convergence_50', 'WMT_ROC_12', 'WMT_MFI_14', 'WMT_CMF_21', 'WMT_RSI_Vol_Interaction', 'WMT_TrueRange_Vol_Interaction', '^GSPC_HighLow_Range', '^GSPC_OpenClose_Range', '^GSPC_Close_to_Range_Ratio', '^GSPC_True_Range', '^GSPC_ATR14', '^GSPC_Volume_Daily_Change', '^GSPC_Volume_MA_20D', '^GSPC_Volume_MA_Ratio', '^GSPC_OBV', '^GSPC_RSI14', '^GSPC_MACD_Line', '^GSPC_MACD_Signal', '^GSPC_MACD_Hist', '^GSPC_SMA_10', '^GSPC_SMA_20', '^GSPC_SMA_50', '^GSPC_EMA_12', '^GSPC_EMA_26', '^GSPC_BB_Middle20', '^GSPC_BB_Upper20', '^GSPC_BB_Lower20', '^GSPC_BB_Bandwidth20', '^GSPC_BB_PctB20', '^GSPC_Stoch_K_14', '^GSPC_Stoch_D_14_3', '^GSPC_PlusDI_14', '^GSPC_MinusDI_14', '^GSPC_DX_14', '^GSPC_ADX_14', '^GSPC_RollingMean_Convergence_50', '^GSPC_ROC_12', '^GSPC_MFI_14', '^GSPC_CMF_21', '^GSPC_RSI_Vol_Interaction', '^GSPC_TrueRange_Vol_Interaction', 'Close_COST_daily_return', 'Close_KO_daily_return', 'Close_PEP_daily_return', 'Close_PG_daily_return', 'Close_WMT_daily_return', 'Close_^GSPC_daily_return', 'WMT_vs_^GSPC_RelStrength', 'WMT_vs_^GSPC_ATR_Ratio', 'WMT_vs_^GSPC_VolumeRatio', 'WMT_vs_KO_CloseRatio', 'WMT_vs_PEP_CloseRatio', 'WMT_Volume_x_ATR', 'WMT_vs_KO_RollingCorr_5D', 'WMT_vs_PEP_RollingCorr_5D', 'WMT_vs_KO_Spread', 'Kalman_Filtered_Close_PG_lag_1', 'Kalman_Filtered_Close_PG_lag_5', 'Kalman_Filtered_Close_PG_lag_10', 'Kalman_Filtered_Close_KO_lag_1', 'Kalman_Filtered_Close_KO_lag_5', 'Kalman_Filtered_Close_KO_lag_10', 'Kalman_Filtered_Close_PEP_lag_1', 'Kalman_Filtered_Close_PEP_lag_5', 'Kalman_Filtered_Close_PEP_lag_10', 'Kalman_Filtered_Close_WMT_lag_1', 'Kalman_Filtered_Close_WMT_lag_5', 'Kalman_Filtered_Close_WMT_lag_10', 'Kalman_Filtered_Close_COST_lag_1', 'Kalman_Filtered_Close_COST_lag_5', 'Kalman_Filtered_Close_COST_lag_10', 'Kalman_Filtered_Close_^GSPC_lag_1', 'Kalman_Filtered_Close_^GSPC_lag_5', 'Kalman_Filtered_Close_^GSPC_lag_10', 'UNRATE', 'GDPC1', 'DGS10', 'CPIAUCSL', 'PAYEMS', 'DFF', 'RSAFS']\n",
      "<class 'pandas.core.frame.DataFrame'>\n",
      "DatetimeIndex: 3223 entries, 2010-03-16 to 2022-12-30\n",
      "Columns: 280 entries, Close_COST to RSAFS\n",
      "dtypes: float64(274), int64(6)\n",
      "memory usage: 6.9 MB\n",
      "None\n"
     ]
    }
   ],
   "source": [
    "# print merged dataframe coloumns and info\n",
    "print(merged_df.columns.tolist())\n",
    "print(merged_df.info())\n"
   ]
  },
  {
   "cell_type": "code",
   "execution_count": null,
   "id": "b608345c",
   "metadata": {},
   "outputs": [],
   "source": [
    "#save the merged DataFrame to a CSV file\n",
    "output_file = r'C:\\Users\\epoch_bpjmdqk\\Documents\\Code\\data\\processed\\stock_and_macro.csv'\n",
    "merged_df.to_csv(output_file, index=True)"
   ]
  },
  {
   "cell_type": "code",
   "execution_count": null,
   "id": "321647fa",
   "metadata": {},
   "outputs": [],
   "source": []
  }
 ],
 "metadata": {
  "kernelspec": {
   "display_name": "venv",
   "language": "python",
   "name": "python3"
  },
  "language_info": {
   "codemirror_mode": {
    "name": "ipython",
    "version": 3
   },
   "file_extension": ".py",
   "mimetype": "text/x-python",
   "name": "python",
   "nbconvert_exporter": "python",
   "pygments_lexer": "ipython3",
   "version": "3.13.6"
  }
 },
 "nbformat": 4,
 "nbformat_minor": 5
}
