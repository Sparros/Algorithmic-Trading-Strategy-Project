{
 "cells": [
  {
   "cell_type": "code",
   "execution_count": null,
   "id": "930f704a",
   "metadata": {},
   "outputs": [],
   "source": [
    "from src.macro_data import fetch_fred_data\n",
    "import pandas as pd"
   ]
  },
  {
   "cell_type": "code",
   "execution_count": null,
   "id": "7c26c16a",
   "metadata": {},
   "outputs": [],
   "source": [
    "# List of FRED series IDs to fetch\n",
    "fred_series_ids_to_fetch = ['PAYEMS', 'CEU0500000003', 'UMCSENT', 'PCE', 'DFF', 'GDPC1', 'PCEPI']\n",
    "\n",
    "# Create an empty list to store the DataFrames\n",
    "fred_dfs = []\n",
    "\n",
    "# Loop through each series ID and fetch the data\n",
    "for series_id in fred_series_ids_to_fetch:\n",
    "    df = fetch_fred_data(series_id)\n",
    "    if not df.empty:\n",
    "        fred_dfs.append(df)\n",
    "\n",
    "# Merge all the DataFrames into a single one\n",
    "if fred_dfs:\n",
    "    final_fred_df = pd.concat(fred_dfs, axis=1)\n",
    "    print(final_fred_df.head())\n",
    "else:\n",
    "    print(\"No FRED data was successfully fetched.\")"
   ]
  }
 ],
 "metadata": {
  "language_info": {
   "name": "python"
  }
 },
 "nbformat": 4,
 "nbformat_minor": 5
}
