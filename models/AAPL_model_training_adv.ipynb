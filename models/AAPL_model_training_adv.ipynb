{
 "cells": [
  {
   "cell_type": "code",
   "execution_count": 35,
   "id": "ac9871a4",
   "metadata": {},
   "outputs": [],
   "source": [
    "import pandas as pd\n",
    "import numpy as np\n",
    "from sklearn.model_selection import train_test_split # We'll use this for chronological split\n",
    "from sklearn.ensemble import RandomForestClassifier\n",
    "from sklearn.metrics import accuracy_score, classification_report, confusion_matrix, roc_auc_score, roc_curve\n",
    "import matplotlib.pyplot as plt\n",
    "import seaborn as sns"
   ]
  },
  {
   "cell_type": "code",
   "execution_count": 36,
   "id": "1085aff8",
   "metadata": {},
   "outputs": [
    {
     "name": "stdout",
     "output_type": "stream",
     "text": [
      "Columns in the dataset:\n",
      "Index(['Close', 'High', 'Low', 'Open', 'Volume', 'MACD', 'MACD_Signal',\n",
      "       'MACD_Diff', 'EMA_12', 'EMA_26', 'ADX', 'ADX_pos', 'ADX_neg', 'BBL',\n",
      "       'BBM', 'BBH', 'BB_bandwidth', 'BB_percent', 'ATR', 'RSI', 'Stoch_K',\n",
      "       'Stoch_D', 'ROC', 'OBV', 'Prev_Close', 'SMA_10', 'Daily_Change_Pct',\n",
      "       'Target'],\n",
      "      dtype='object')\n"
     ]
    }
   ],
   "source": [
    "# Load the data\n",
    "df = pd.read_csv('AAPL_advanced_features.csv', index_col='Date', parse_dates=True)\n",
    "\n",
    "# show coloumns\n",
    "print(\"Columns in the dataset:\")\n",
    "print(df.columns)"
   ]
  },
  {
   "cell_type": "code",
   "execution_count": 37,
   "id": "6ff9fb6a",
   "metadata": {},
   "outputs": [
    {
     "name": "stdout",
     "output_type": "stream",
     "text": [
      "Features (X) shape: (1223, 21)\n",
      "Target (y) shape: (1223,)\n",
      "\n",
      "Selected Features:\n",
      "['MACD', 'MACD_Signal', 'MACD_Diff', 'EMA_12', 'EMA_26', 'ADX', 'ADX_pos', 'ADX_neg', 'BBL', 'BBM', 'BBH', 'BB_bandwidth', 'BB_percent', 'ATR', 'RSI', 'Stoch_K', 'Stoch_D', 'ROC', 'OBV', 'Prev_Close', 'SMA_10']\n"
     ]
    }
   ],
   "source": [
    "excluded_columns = ['Close', 'Daily_Change_Pct', 'Target', 'Open', 'High', 'Low', 'Volume']\n",
    "\n",
    "feature_columns = [col for col in df.columns if col not in excluded_columns]\n",
    "\n",
    "X = df[feature_columns]\n",
    "y = df['Target']\n",
    "\n",
    "print(f\"Features (X) shape: {X.shape}\")\n",
    "print(f\"Target (y) shape: {y.shape}\")\n",
    "print(\"\\nSelected Features:\")\n",
    "print(feature_columns)"
   ]
  },
  {
   "cell_type": "code",
   "execution_count": 38,
   "id": "0b9830ca",
   "metadata": {},
   "outputs": [
    {
     "name": "stdout",
     "output_type": "stream",
     "text": [
      "\n",
      "Training set size: 978 samples\n",
      "Testing set size: 245 samples\n",
      "Train set date range: 2020-02-20 00:00:00 to 2024-01-08 00:00:00\n",
      "Test set date range: 2024-01-09 00:00:00 to 2024-12-27 00:00:00\n"
     ]
    }
   ],
   "source": [
    "split_point = int(len(X) * 0.8) # 80% for training, 20% for testing\n",
    "\n",
    "X_train, X_test = X[:split_point], X[split_point:]\n",
    "y_train, y_test = y[:split_point], y[split_point:]\n",
    "\n",
    "# Also get the actual closing prices for the test period for backtesting later\n",
    "test_close_prices = df['Close'][split_point:] # Using 'Close' which is the original price column\n",
    "\n",
    "print(f\"\\nTraining set size: {len(X_train)} samples\")\n",
    "print(f\"Testing set size: {len(X_test)} samples\")\n",
    "print(f\"Train set date range: {X_train.index.min()} to {X_train.index.max()}\")\n",
    "print(f\"Test set date range: {X_test.index.min()} to {X_test.index.max()}\")"
   ]
  },
  {
   "cell_type": "code",
   "execution_count": 39,
   "id": "524feed1",
   "metadata": {},
   "outputs": [
    {
     "name": "stdout",
     "output_type": "stream",
     "text": [
      "\n",
      "--- Training Random Forest Classifier ---\n",
      "Model training complete.\n"
     ]
    }
   ],
   "source": [
    "# Initialize and train the Random Forest Classifier\n",
    "# n_estimators: number of trees in the forest\n",
    "# random_state: for reproducibility\n",
    "# class_weight: useful for handling potential imbalances, even if minor\n",
    "#               'balanced' automatically adjusts weights inversely proportional to class frequencies.\n",
    "print(\"\\n--- Training Random Forest Classifier ---\")\n",
    "model = RandomForestClassifier(n_estimators=100, random_state=42, class_weight='balanced', n_jobs=-1) # n_jobs=-1 uses all available cores\n",
    "model.fit(X_train, y_train)\n",
    "\n",
    "print(\"Model training complete.\")"
   ]
  },
  {
   "cell_type": "code",
   "execution_count": 40,
   "id": "584ab2c5",
   "metadata": {},
   "outputs": [
    {
     "name": "stdout",
     "output_type": "stream",
     "text": [
      "\n",
      "--- Model Evaluation (Random Forest Classifier) ---\n",
      "Accuracy: 0.4204\n",
      "\n",
      "Classification Report:\n",
      "              precision    recall  f1-score   support\n",
      "\n",
      "        Down       0.40      0.70      0.51       104\n",
      "          Up       0.49      0.21      0.30       141\n",
      "\n",
      "    accuracy                           0.42       245\n",
      "   macro avg       0.44      0.46      0.40       245\n",
      "weighted avg       0.45      0.42      0.39       245\n",
      "\n"
     ]
    },
    {
     "data": {
      "image/png": "[encoded data removed]",
      "text/plain": [
       "<Figure size 800x700 with 1 Axes>"
      ]
     },
     "metadata": {},
     "output_type": "display_data"
    },
    {
     "ename": "IndexError",
     "evalue": "index 2 is out of bounds for axis 1 with size 2",
     "output_type": "error",
     "traceback": [
      "\u001b[31m---------------------------------------------------------------------------\u001b[39m",
      "\u001b[31mIndexError\u001b[39m                                Traceback (most recent call last)",
      "\u001b[36mCell\u001b[39m\u001b[36m \u001b[39m\u001b[32mIn[40]\u001b[39m\u001b[32m, line 30\u001b[39m\n\u001b[32m     22\u001b[39m plt.show()\n\u001b[32m     24\u001b[39m \u001b[38;5;66;03m# --- ROC Curve and AUC (for multi-class, it's typically \"One-vs-Rest\" or \"One-vs-One\") ---\u001b[39;00m\n\u001b[32m     25\u001b[39m \u001b[38;5;66;03m# For simplicity, let's calculate AUC for the 'Up' class (class 2) vs others as a binary problem\u001b[39;00m\n\u001b[32m     26\u001b[39m \u001b[38;5;66;03m# You can extend this for all classes if needed using more advanced ROC plotting techniques.\u001b[39;00m\n\u001b[32m     27\u001b[39m \u001b[38;5;66;03m# For multi-class AUC, `roc_auc_score` with `multi_class='ovr'` or `multi_class='ovo'` is common.\u001b[39;00m\n\u001b[32m     28\u001b[39m \n\u001b[32m     29\u001b[39m \u001b[38;5;66;03m# Probability of predicting 'Up' (class 2)\u001b[39;00m\n\u001b[32m---> \u001b[39m\u001b[32m30\u001b[39m up_class_probabilities = \u001b[43mprediction_probabilities\u001b[49m\u001b[43m[\u001b[49m\u001b[43m:\u001b[49m\u001b[43m,\u001b[49m\u001b[43m \u001b[49m\u001b[32;43m2\u001b[39;49m\u001b[43m]\u001b[49m\n\u001b[32m     32\u001b[39m \u001b[38;5;66;03m# Need to convert y_test to binary (1 if 'Up', 0 otherwise) for this specific AUC calculation\u001b[39;00m\n\u001b[32m     33\u001b[39m y_test_binary_up = (y_test == \u001b[32m2\u001b[39m).astype(\u001b[38;5;28mint\u001b[39m)\n",
      "\u001b[31mIndexError\u001b[39m: index 2 is out of bounds for axis 1 with size 2"
     ]
    }
   ],
   "source": [
    "# Make predictions on the test set\n",
    "predictions = model.predict(X_test)\n",
    "prediction_probabilities = model.predict_proba(X_test) # Probabilities for all classes\n",
    "\n",
    "# Evaluate the model\n",
    "print(\"\\n--- Model Evaluation (Random Forest Classifier) ---\")\n",
    "print(f\"Accuracy: {accuracy_score(y_test, predictions):.4f}\")\n",
    "print(\"\\nClassification Report:\")\n",
    "# Target names are important for clarity in classification report\n",
    "target_names = ['Down', 'Up'] # Assuming 0: Down, 1: Flat, 2: Up\n",
    "print(classification_report(y_test, predictions, target_names=target_names))\n",
    "\n",
    "# Confusion Matrix\n",
    "cm = confusion_matrix(y_test, predictions)\n",
    "plt.figure(figsize=(8, 7))\n",
    "sns.heatmap(cm, annot=True, fmt='d', cmap='Blues', cbar=False,\n",
    "            xticklabels=target_names,\n",
    "            yticklabels=target_names)\n",
    "plt.title('Confusion Matrix')\n",
    "plt.ylabel('Actual Label')\n",
    "plt.xlabel('Predicted Label')\n",
    "plt.show()\n",
    "\n",
    "# --- ROC Curve and AUC (for multi-class, it's typically \"One-vs-Rest\" or \"One-vs-One\") ---\n",
    "# For simplicity, let's calculate AUC for the 'Up' class (class 2) vs others as a binary problem\n",
    "# You can extend this for all classes if needed using more advanced ROC plotting techniques.\n",
    "# For multi-class AUC, `roc_auc_score` with `multi_class='ovr'` or `multi_class='ovo'` is common.\n",
    "\n",
    "# Probability of predicting 'Up' (class 2)\n",
    "up_class_probabilities = prediction_probabilities[:, 2]\n",
    "\n",
    "# Need to convert y_test to binary (1 if 'Up', 0 otherwise) for this specific AUC calculation\n",
    "y_test_binary_up = (y_test == 2).astype(int)\n",
    "\n",
    "fpr, tpr, thresholds = roc_curve(y_test_binary_up, up_class_probabilities)\n",
    "auc = roc_auc_score(y_test_binary_up, up_class_probabilities)\n",
    "\n",
    "plt.figure(figsize=(8, 6))\n",
    "plt.plot(fpr, tpr, label=f'ROC Curve for \"Up\" (AUC = {auc:.2f})')\n",
    "plt.plot([0, 1], [0, 1], 'k--', label='Random Classifier')\n",
    "plt.xlabel('False Positive Rate')\n",
    "plt.ylabel('True Positive Rate')\n",
    "plt.title('ROC Curve for Predicting \"Up\" (Class 2)')\n",
    "plt.legend()\n",
    "plt.grid(True)\n",
    "plt.show()\n",
    "\n",
    "print(f\"AUC Score for 'Up' class: {auc:.4f}\")\n",
    "\n",
    "# You can also compute AUC for all classes directly:\n",
    "try:\n",
    "    auc_overall = roc_auc_score(y_test, prediction_probabilities, multi_class='ovr', average='weighted')\n",
    "    print(f\"Overall Weighted AUC (One-vs-Rest): {auc_overall:.4f}\")\n",
    "except ValueError as e:\n",
    "    print(f\"Could not compute overall AUC (multi_class='ovr'): {e}\")\n",
    "    print(\"This might happen if a class is missing in either y_test or predictions.\")"
   ]
  },
  {
   "cell_type": "code",
   "execution_count": null,
   "id": "568686b4",
   "metadata": {},
   "outputs": [
    {
     "name": "stdout",
     "output_type": "stream",
     "text": [
      "\n",
      "--- Training Set Target Distribution ---\n",
      "Target\n",
      "2    506\n",
      "0    462\n",
      "1     10\n",
      "Name: count, dtype: int64\n",
      "\n",
      "--- Test Set Target Distribution ---\n",
      "Target\n",
      "2    138\n",
      "0    103\n",
      "1      4\n",
      "Name: count, dtype: int64\n"
     ]
    }
   ],
   "source": [
    "print(\"\\n--- Training Set Target Distribution ---\")\n",
    "print(y_train.value_counts())\n",
    "\n",
    "print(\"\\n--- Test Set Target Distribution ---\")\n",
    "print(y_test.value_counts())"
   ]
  }
 ],
 "metadata": {
  "kernelspec": {
   "display_name": "venv",
   "language": "python",
   "name": "python3"
  },
  "language_info": {
   "codemirror_mode": {
    "name": "ipython",
    "version": 3
   },
   "file_extension": ".py",
   "mimetype": "text/x-python",
   "name": "python",
   "nbconvert_exporter": "python",
   "pygments_lexer": "ipython3",
   "version": "3.13.3"
  }
 },
 "nbformat": 4,
 "nbformat_minor": 5
}
