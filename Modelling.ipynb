{
 "cells": [
  {
   "cell_type": "code",
   "execution_count": 10,
   "id": "c249f71c",
   "metadata": {},
   "outputs": [],
   "source": [
    "import pandas as pd"
   ]
  },
  {
   "cell_type": "code",
   "execution_count": null,
   "id": "2ccdaeea",
   "metadata": {},
   "outputs": [
    {
     "data": {
      "text/html": [
       "<div>\n",
       "<style scoped>\n",
       "    .dataframe tbody tr th:only-of-type {\n",
       "        vertical-align: middle;\n",
       "    }\n",
       "\n",
       "    .dataframe tbody tr th {\n",
       "        vertical-align: top;\n",
       "    }\n",
       "\n",
       "    .dataframe thead th {\n",
       "        text-align: right;\n",
       "    }\n",
       "</style>\n",
       "<table border=\"1\" class=\"dataframe\">\n",
       "  <thead>\n",
       "    <tr style=\"text-align: right;\">\n",
       "      <th></th>\n",
       "      <th>Date</th>\n",
       "      <th>Close_COST</th>\n",
       "      <th>Close_KO</th>\n",
       "      <th>Close_PEP</th>\n",
       "      <th>Close_PG</th>\n",
       "      <th>Close_WMT</th>\n",
       "      <th>High_COST</th>\n",
       "      <th>High_KO</th>\n",
       "      <th>High_PEP</th>\n",
       "      <th>High_PG</th>\n",
       "      <th>...</th>\n",
       "      <th>Close_WMT_lag5</th>\n",
       "      <th>Close_WMT_daily_return_lag1</th>\n",
       "      <th>Close_WMT_daily_return_lag3</th>\n",
       "      <th>Close_WMT_daily_return_lag5</th>\n",
       "      <th>WMT_RSI14_lag1</th>\n",
       "      <th>WMT_RSI14_lag3</th>\n",
       "      <th>WMT_RSI14_lag5</th>\n",
       "      <th>WMT_Volume_MA_Ratio_lag1</th>\n",
       "      <th>WMT_Volume_MA_Ratio_lag3</th>\n",
       "      <th>WMT_Volume_MA_Ratio_lag5</th>\n",
       "    </tr>\n",
       "  </thead>\n",
       "  <tbody>\n",
       "    <tr>\n",
       "      <th>0</th>\n",
       "      <td>2010-03-16</td>\n",
       "      <td>43.420586</td>\n",
       "      <td>16.792847</td>\n",
       "      <td>42.058556</td>\n",
       "      <td>40.499794</td>\n",
       "      <td>13.515332</td>\n",
       "      <td>43.456228</td>\n",
       "      <td>16.846008</td>\n",
       "      <td>42.204970</td>\n",
       "      <td>40.735667</td>\n",
       "      <td>...</td>\n",
       "      <td>12.976312</td>\n",
       "      <td>0.028201</td>\n",
       "      <td>0.006340</td>\n",
       "      <td>-0.001662</td>\n",
       "      <td>81.730175</td>\n",
       "      <td>62.542809</td>\n",
       "      <td>57.376452</td>\n",
       "      <td>1.734993</td>\n",
       "      <td>0.777034</td>\n",
       "      <td>0.926712</td>\n",
       "    </tr>\n",
       "    <tr>\n",
       "      <th>1</th>\n",
       "      <td>2010-03-17</td>\n",
       "      <td>43.719963</td>\n",
       "      <td>16.836634</td>\n",
       "      <td>42.376858</td>\n",
       "      <td>40.805786</td>\n",
       "      <td>13.498437</td>\n",
       "      <td>43.812633</td>\n",
       "      <td>16.883542</td>\n",
       "      <td>42.383225</td>\n",
       "      <td>40.818534</td>\n",
       "      <td>...</td>\n",
       "      <td>12.945661</td>\n",
       "      <td>0.010285</td>\n",
       "      <td>-0.001297</td>\n",
       "      <td>-0.002362</td>\n",
       "      <td>85.236030</td>\n",
       "      <td>59.505615</td>\n",
       "      <td>52.295963</td>\n",
       "      <td>1.301111</td>\n",
       "      <td>0.765837</td>\n",
       "      <td>0.928588</td>\n",
       "    </tr>\n",
       "    <tr>\n",
       "      <th>2</th>\n",
       "      <td>2010-03-18</td>\n",
       "      <td>43.677212</td>\n",
       "      <td>16.871029</td>\n",
       "      <td>42.345016</td>\n",
       "      <td>40.627296</td>\n",
       "      <td>13.503267</td>\n",
       "      <td>43.791270</td>\n",
       "      <td>16.899173</td>\n",
       "      <td>42.478702</td>\n",
       "      <td>40.882291</td>\n",
       "      <td>...</td>\n",
       "      <td>13.027730</td>\n",
       "      <td>-0.001250</td>\n",
       "      <td>0.028201</td>\n",
       "      <td>0.006340</td>\n",
       "      <td>82.979855</td>\n",
       "      <td>81.730175</td>\n",
       "      <td>62.542809</td>\n",
       "      <td>0.890571</td>\n",
       "      <td>1.734993</td>\n",
       "      <td>0.777034</td>\n",
       "    </tr>\n",
       "  </tbody>\n",
       "</table>\n",
       "<p>3 rows × 241 columns</p>\n",
       "</div>"
      ],
      "text/plain": [
       "         Date  Close_COST   Close_KO  Close_PEP   Close_PG  Close_WMT  \\\n",
       "0  2010-03-16   43.420586  16.792847  42.058556  40.499794  13.515332   \n",
       "1  2010-03-17   43.719963  16.836634  42.376858  40.805786  13.498437   \n",
       "2  2010-03-18   43.677212  16.871029  42.345016  40.627296  13.503267   \n",
       "\n",
       "   High_COST    High_KO   High_PEP    High_PG  ...  Close_WMT_lag5  \\\n",
       "0  43.456228  16.846008  42.204970  40.735667  ...       12.976312   \n",
       "1  43.812633  16.883542  42.383225  40.818534  ...       12.945661   \n",
       "2  43.791270  16.899173  42.478702  40.882291  ...       13.027730   \n",
       "\n",
       "   Close_WMT_daily_return_lag1  Close_WMT_daily_return_lag3  \\\n",
       "0                     0.028201                     0.006340   \n",
       "1                     0.010285                    -0.001297   \n",
       "2                    -0.001250                     0.028201   \n",
       "\n",
       "   Close_WMT_daily_return_lag5  WMT_RSI14_lag1  WMT_RSI14_lag3  \\\n",
       "0                    -0.001662       81.730175       62.542809   \n",
       "1                    -0.002362       85.236030       59.505615   \n",
       "2                     0.006340       82.979855       81.730175   \n",
       "\n",
       "   WMT_RSI14_lag5  WMT_Volume_MA_Ratio_lag1  WMT_Volume_MA_Ratio_lag3  \\\n",
       "0       57.376452                  1.734993                  0.777034   \n",
       "1       52.295963                  1.301111                  0.765837   \n",
       "2       62.542809                  0.890571                  1.734993   \n",
       "\n",
       "   WMT_Volume_MA_Ratio_lag5  \n",
       "0                  0.926712  \n",
       "1                  0.928588  \n",
       "2                  0.777034  \n",
       "\n",
       "[3 rows x 241 columns]"
      ]
     },
     "execution_count": 20,
     "metadata": {},
     "output_type": "execute_result"
    }
   ],
   "source": [
    "# 1. LOAD CSV AND PREPARE DATAFRAME\n",
    "consumer_stocks = pd.read_csv(\"consumer_supply_chain_stocks.csv\")\n",
    "consumer_stocks.head(3)"
   ]
  },
  {
   "cell_type": "code",
   "execution_count": null,
   "id": "735ca5bf",
   "metadata": {},
   "outputs": [],
   "source": [
    "# Set the 'Date' column as the index and convert it to datetime objects\n",
    "consumer_stocks['Date'] = pd.to_datetime(consumer_stocks['Date'])\n",
    "consumer_stocks.set_index('Date', inplace=True)"
   ]
  },
  {
   "cell_type": "code",
   "execution_count": 12,
   "id": "d55ca70c",
   "metadata": {},
   "outputs": [
    {
     "name": "stdout",
     "output_type": "stream",
     "text": [
      "Columns containing 'WMT':\n",
      "['Close_WMT', 'High_WMT', 'Low_WMT', 'Open_WMT', 'Volume_WMT', 'WMT_HighLow_Range', 'WMT_OpenClose_Range', 'WMT_Close_to_Range_Ratio', 'WMT_True_Range', 'WMT_ATR14', 'WMT_Volume_Daily_Change', 'WMT_Volume_MA_20D', 'WMT_Volume_MA_Ratio', 'WMT_OBV', 'WMT_RSI14', 'WMT_MACD_Line', 'WMT_MACD_Signal', 'WMT_MACD_Hist', 'WMT_SMA_10', 'WMT_SMA_20', 'WMT_SMA_50', 'WMT_EMA_12', 'WMT_EMA_26', 'WMT_BB_Middle20', 'WMT_BB_Upper20', 'WMT_BB_Lower20', 'WMT_BB_Bandwidth20', 'WMT_BB_PctB20', 'WMT_Stoch_K_14', 'WMT_Stoch_D_14_3', 'WMT_PlusDI_14', 'WMT_MinusDI_14', 'WMT_DX_14', 'WMT_ADX_14', 'Close_WMT_daily_return', 'Close_WMT_Next_Day_Return', 'Close_WMT_lag1', 'Close_WMT_lag3', 'Close_WMT_lag5', 'Close_WMT_daily_return_lag1', 'Close_WMT_daily_return_lag3', 'Close_WMT_daily_return_lag5', 'WMT_RSI14_lag1', 'WMT_RSI14_lag3', 'WMT_RSI14_lag5', 'WMT_Volume_MA_Ratio_lag1', 'WMT_Volume_MA_Ratio_lag3', 'WMT_Volume_MA_Ratio_lag5']\n"
     ]
    }
   ],
   "source": [
    "column_names = consumer_stocks.columns\n",
    "wmt_columns = [col for col in column_names if 'WMT' in col]\n",
    "\n",
    "print(\"Columns containing 'WMT':\")\n",
    "print(wmt_columns)"
   ]
  },
  {
   "cell_type": "code",
   "execution_count": 21,
   "id": "c3dced34",
   "metadata": {},
   "outputs": [
    {
     "name": "stdout",
     "output_type": "stream",
     "text": [
      "WMT_Target\n",
      "1    1699\n",
      "0    1523\n",
      "Name: count, dtype: int64\n"
     ]
    }
   ],
   "source": [
    "# 2. DEFINE TARGET VARIABLE\n",
    "target_ticker = 'WMT'\n",
    "target_col = f'Close_{target_ticker}_Next_Day_Return'\n",
    "consumer_stocks[f'{target_ticker}_Target'] = (consumer_stocks[target_col] > 0).astype(int)\n",
    "\n",
    "\n",
    "print(consumer_stocks[f'{target_ticker}_Target'].value_counts())"
   ]
  },
  {
   "cell_type": "code",
   "execution_count": null,
   "id": "800c3600",
   "metadata": {},
   "outputs": [
    {
     "name": "stdout",
     "output_type": "stream",
     "text": [
      "Number of NaN values per column:\n",
      "Date                        0\n",
      "Close_COST                  0\n",
      "Close_KO                    0\n",
      "Close_PEP                   0\n",
      "Close_PG                    0\n",
      "                           ..\n",
      "WMT_RSI14_lag5              0\n",
      "WMT_Volume_MA_Ratio_lag1    0\n",
      "WMT_Volume_MA_Ratio_lag3    0\n",
      "WMT_Volume_MA_Ratio_lag5    0\n",
      "WMT_Target                  0\n",
      "Length: 242, dtype: int64\n",
      "\n",
      "Total number of NaN values in the DataFrame: 0\n"
     ]
    }
   ],
   "source": [
    "# 3. HANDLE MISSING DATA\n",
    "nan_per_column = consumer_stocks.isnull().sum()\n",
    "print(\"Number of NaN values per column:\")\n",
    "print(nan_per_column)\n",
    "\n",
    "# Count total NaN values in the entire DataFrame\n",
    "total_nan = consumer_stocks.isnull().sum().sum()\n",
    "print(\"\\nTotal number of NaN values in the DataFrame:\", total_nan)\n",
    "\n",
    "#consumer_stocks.dropna(inplace=True)"
   ]
  },
  {
   "cell_type": "code",
   "execution_count": null,
   "id": "7be48f4e",
   "metadata": {},
   "outputs": [
    {
     "name": "stdout",
     "output_type": "stream",
     "text": [
      "Training data shape: (2022, 236), (2022,)\n",
      "Testing data shape: (1200, 236), (1200,)\n"
     ]
    }
   ],
   "source": [
    "# 4. SEPARATE FEATURES (X) AND TARGET (y)\n",
    "columns_to_drop = [\n",
    "    f'{target_ticker}_Target',\n",
    "    f'Close_{target_ticker}_Next_Day_Return',\n",
    "    f'Open_{target_ticker}',\n",
    "    f'High_{target_ticker}',\n",
    "    f'Low_{target_ticker}',\n",
    "    f'Close_{target_ticker}'\n",
    "]\n",
    "\n",
    "# Ensure we only try to drop columns that actually exist\n",
    "existing_columns_to_drop = [col for col in columns_to_drop if col in consumer_stocks.columns]\n",
    "\n",
    "# Separate features (X) and target (y)\n",
    "X = consumer_stocks.drop(columns=existing_columns_to_drop)\n",
    "y = consumer_stocks[f'{target_ticker}_Target']\n",
    "\n",
    "# Define the date for the split\n",
    "split_date = '2021-01-01'\n",
    "\n",
    "# Split the data chronologically\n",
    "X_train = X.loc[:split_date]\n",
    "y_train = y.loc[:split_date]\n",
    "\n",
    "X_test = X.loc[split_date:]\n",
    "y_test = y.loc[split_date:]\n",
    "\n",
    "print(f\"Training data shape: {X_train.shape}, {y_train.shape}\")\n",
    "print(f\"Testing data shape: {X_test.shape}, {y_test.shape}\")"
   ]
  },
  {
   "cell_type": "code",
   "execution_count": 18,
   "id": "14b69295",
   "metadata": {},
   "outputs": [
    {
     "ename": "ValueError",
     "evalue": "could not convert string to float: '2010-03-16'",
     "output_type": "error",
     "traceback": [
      "\u001b[31m---------------------------------------------------------------------------\u001b[39m",
      "\u001b[31mValueError\u001b[39m                                Traceback (most recent call last)",
      "\u001b[32m~\\AppData\\Local\\Temp\\ipykernel_18924\\3939202565.py\u001b[39m in \u001b[36m?\u001b[39m\u001b[34m()\u001b[39m\n\u001b[32m      4\u001b[39m \u001b[38;5;66;03m# The random_state ensures reproducibility\u001b[39;00m\n\u001b[32m      5\u001b[39m model = RandomForestClassifier(n_estimators=\u001b[32m100\u001b[39m, random_state=\u001b[32m42\u001b[39m)\n\u001b[32m      6\u001b[39m \n\u001b[32m      7\u001b[39m \u001b[38;5;66;03m# Train the model on the training data\u001b[39;00m\n\u001b[32m----> \u001b[39m\u001b[32m8\u001b[39m model.fit(X_train, y_train)\n\u001b[32m      9\u001b[39m \n\u001b[32m     10\u001b[39m \u001b[38;5;66;03m# Now, let's see how it performs on the unseen test data\u001b[39;00m\n\u001b[32m     11\u001b[39m \u001b[38;5;66;03m# We'll use the model to make predictions on the test set\u001b[39;00m\n",
      "\u001b[32mc:\\Users\\epoch_bpjmdqk\\Documents\\Code\\venv\\Lib\\site-packages\\sklearn\\base.py\u001b[39m in \u001b[36m?\u001b[39m\u001b[34m(estimator, *args, **kwargs)\u001b[39m\n\u001b[32m   1361\u001b[39m                 skip_parameter_validation=(\n\u001b[32m   1362\u001b[39m                     prefer_skip_nested_validation \u001b[38;5;28;01mor\u001b[39;00m global_skip_validation\n\u001b[32m   1363\u001b[39m                 )\n\u001b[32m   1364\u001b[39m             ):\n\u001b[32m-> \u001b[39m\u001b[32m1365\u001b[39m                 \u001b[38;5;28;01mreturn\u001b[39;00m fit_method(estimator, *args, **kwargs)\n",
      "\u001b[32mc:\\Users\\epoch_bpjmdqk\\Documents\\Code\\venv\\Lib\\site-packages\\sklearn\\ensemble\\_forest.py\u001b[39m in \u001b[36m?\u001b[39m\u001b[34m(self, X, y, sample_weight)\u001b[39m\n\u001b[32m    355\u001b[39m         \u001b[38;5;66;03m# Validate or convert input data\u001b[39;00m\n\u001b[32m    356\u001b[39m         \u001b[38;5;28;01mif\u001b[39;00m issparse(y):\n\u001b[32m    357\u001b[39m             \u001b[38;5;28;01mraise\u001b[39;00m ValueError(\u001b[33m\"sparse multilabel-indicator for y is not supported.\"\u001b[39m)\n\u001b[32m    358\u001b[39m \n\u001b[32m--> \u001b[39m\u001b[32m359\u001b[39m         X, y = validate_data(\n\u001b[32m    360\u001b[39m             self,\n\u001b[32m    361\u001b[39m             X,\n\u001b[32m    362\u001b[39m             y,\n",
      "\u001b[32mc:\\Users\\epoch_bpjmdqk\\Documents\\Code\\venv\\Lib\\site-packages\\sklearn\\utils\\validation.py\u001b[39m in \u001b[36m?\u001b[39m\u001b[34m(_estimator, X, y, reset, validate_separately, skip_check_array, **check_params)\u001b[39m\n\u001b[32m   2967\u001b[39m             \u001b[38;5;28;01mif\u001b[39;00m \u001b[33m\"estimator\"\u001b[39m \u001b[38;5;28;01mnot\u001b[39;00m \u001b[38;5;28;01min\u001b[39;00m check_y_params:\n\u001b[32m   2968\u001b[39m                 check_y_params = {**default_check_params, **check_y_params}\n\u001b[32m   2969\u001b[39m             y = check_array(y, input_name=\u001b[33m\"y\"\u001b[39m, **check_y_params)\n\u001b[32m   2970\u001b[39m         \u001b[38;5;28;01melse\u001b[39;00m:\n\u001b[32m-> \u001b[39m\u001b[32m2971\u001b[39m             X, y = check_X_y(X, y, **check_params)\n\u001b[32m   2972\u001b[39m         out = X, y\n\u001b[32m   2973\u001b[39m \n\u001b[32m   2974\u001b[39m     \u001b[38;5;28;01mif\u001b[39;00m \u001b[38;5;28;01mnot\u001b[39;00m no_val_X \u001b[38;5;28;01mand\u001b[39;00m check_params.get(\u001b[33m\"ensure_2d\"\u001b[39m, \u001b[38;5;28;01mTrue\u001b[39;00m):\n",
      "\u001b[32mc:\\Users\\epoch_bpjmdqk\\Documents\\Code\\venv\\Lib\\site-packages\\sklearn\\utils\\validation.py\u001b[39m in \u001b[36m?\u001b[39m\u001b[34m(X, y, accept_sparse, accept_large_sparse, dtype, order, copy, force_writeable, force_all_finite, ensure_all_finite, ensure_2d, allow_nd, multi_output, ensure_min_samples, ensure_min_features, y_numeric, estimator)\u001b[39m\n\u001b[32m   1364\u001b[39m         )\n\u001b[32m   1365\u001b[39m \n\u001b[32m   1366\u001b[39m     ensure_all_finite = _deprecate_force_all_finite(force_all_finite, ensure_all_finite)\n\u001b[32m   1367\u001b[39m \n\u001b[32m-> \u001b[39m\u001b[32m1368\u001b[39m     X = check_array(\n\u001b[32m   1369\u001b[39m         X,\n\u001b[32m   1370\u001b[39m         accept_sparse=accept_sparse,\n\u001b[32m   1371\u001b[39m         accept_large_sparse=accept_large_sparse,\n",
      "\u001b[32mc:\\Users\\epoch_bpjmdqk\\Documents\\Code\\venv\\Lib\\site-packages\\sklearn\\utils\\validation.py\u001b[39m in \u001b[36m?\u001b[39m\u001b[34m(array, accept_sparse, accept_large_sparse, dtype, order, copy, force_writeable, force_all_finite, ensure_all_finite, ensure_non_negative, ensure_2d, allow_nd, ensure_min_samples, ensure_min_features, estimator, input_name)\u001b[39m\n\u001b[32m   1050\u001b[39m                         )\n\u001b[32m   1051\u001b[39m                     array = xp.astype(array, dtype, copy=\u001b[38;5;28;01mFalse\u001b[39;00m)\n\u001b[32m   1052\u001b[39m                 \u001b[38;5;28;01melse\u001b[39;00m:\n\u001b[32m   1053\u001b[39m                     array = _asarray_with_order(array, order=order, dtype=dtype, xp=xp)\n\u001b[32m-> \u001b[39m\u001b[32m1054\u001b[39m             \u001b[38;5;28;01mexcept\u001b[39;00m ComplexWarning \u001b[38;5;28;01mas\u001b[39;00m complex_warning:\n\u001b[32m   1055\u001b[39m                 raise ValueError(\n\u001b[32m   1056\u001b[39m                     \u001b[33m\"Complex data not supported\\n{}\\n\"\u001b[39m.format(array)\n\u001b[32m   1057\u001b[39m                 ) \u001b[38;5;28;01mfrom\u001b[39;00m complex_warning\n",
      "\u001b[32mc:\\Users\\epoch_bpjmdqk\\Documents\\Code\\venv\\Lib\\site-packages\\sklearn\\utils\\_array_api.py\u001b[39m in \u001b[36m?\u001b[39m\u001b[34m(array, dtype, order, copy, xp, device)\u001b[39m\n\u001b[32m    753\u001b[39m         \u001b[38;5;66;03m# Use NumPy API to support order\u001b[39;00m\n\u001b[32m    754\u001b[39m         \u001b[38;5;28;01mif\u001b[39;00m copy \u001b[38;5;28;01mis\u001b[39;00m \u001b[38;5;28;01mTrue\u001b[39;00m:\n\u001b[32m    755\u001b[39m             array = numpy.array(array, order=order, dtype=dtype)\n\u001b[32m    756\u001b[39m         \u001b[38;5;28;01melse\u001b[39;00m:\n\u001b[32m--> \u001b[39m\u001b[32m757\u001b[39m             array = numpy.asarray(array, order=order, dtype=dtype)\n\u001b[32m    758\u001b[39m \n\u001b[32m    759\u001b[39m         \u001b[38;5;66;03m# At this point array is a NumPy ndarray. We convert it to an array\u001b[39;00m\n\u001b[32m    760\u001b[39m         \u001b[38;5;66;03m# container that is consistent with the input's namespace.\u001b[39;00m\n",
      "\u001b[32mc:\\Users\\epoch_bpjmdqk\\Documents\\Code\\venv\\Lib\\site-packages\\pandas\\core\\generic.py\u001b[39m in \u001b[36m?\u001b[39m\u001b[34m(self, dtype, copy)\u001b[39m\n\u001b[32m   2164\u001b[39m             )\n\u001b[32m   2165\u001b[39m         values = self._values\n\u001b[32m   2166\u001b[39m         \u001b[38;5;28;01mif\u001b[39;00m copy \u001b[38;5;28;01mis\u001b[39;00m \u001b[38;5;28;01mNone\u001b[39;00m:\n\u001b[32m   2167\u001b[39m             \u001b[38;5;66;03m# Note: branch avoids `copy=None` for NumPy 1.x support\u001b[39;00m\n\u001b[32m-> \u001b[39m\u001b[32m2168\u001b[39m             arr = np.asarray(values, dtype=dtype)\n\u001b[32m   2169\u001b[39m         \u001b[38;5;28;01melse\u001b[39;00m:\n\u001b[32m   2170\u001b[39m             arr = np.array(values, dtype=dtype, copy=copy)\n\u001b[32m   2171\u001b[39m \n",
      "\u001b[31mValueError\u001b[39m: could not convert string to float: '2010-03-16'"
     ]
    }
   ],
   "source": [
    "from sklearn.ensemble import RandomForestClassifier\n",
    "\n",
    "# Create an instance of the model\n",
    "# The random_state ensures reproducibility\n",
    "model = RandomForestClassifier(n_estimators=100, random_state=42)\n",
    "\n",
    "# Train the model on the training data\n",
    "model.fit(X_train, y_train)\n",
    "\n",
    "# Now, let's see how it performs on the unseen test data\n",
    "# We'll use the model to make predictions on the test set\n",
    "y_pred = model.predict(X_test)\n",
    "\n",
    "# You can now evaluate the model's performance\n",
    "from sklearn.metrics import classification_report\n",
    "\n",
    "print(\"--- Model Evaluation on Test Data ---\")\n",
    "print(classification_report(y_test, y_pred))"
   ]
  }
 ],
 "metadata": {
  "kernelspec": {
   "display_name": "venv",
   "language": "python",
   "name": "python3"
  },
  "language_info": {
   "codemirror_mode": {
    "name": "ipython",
    "version": 3
   },
   "file_extension": ".py",
   "mimetype": "text/x-python",
   "name": "python",
   "nbconvert_exporter": "python",
   "pygments_lexer": "ipython3",
   "version": "3.13.3"
  }
 },
 "nbformat": 4,
 "nbformat_minor": 5
}
